{
 "cells": [
  {
   "cell_type": "markdown",
   "id": "ae08b458",
   "metadata": {
    "papermill": {
     "duration": 0.004682,
     "end_time": "2024-12-21T08:58:34.170193",
     "exception": false,
     "start_time": "2024-12-21T08:58:34.165511",
     "status": "completed"
    },
    "tags": []
   },
   "source": [
    "**This notebook is an exercise in the [Data Cleaning](https://www.kaggle.com/learn/data-cleaning) course.  You can reference the tutorial at [this link](https://www.kaggle.com/alexisbcook/character-encodings).**\n",
    "\n",
    "---\n"
   ]
  },
  {
   "cell_type": "markdown",
   "id": "2993e4c7",
   "metadata": {
    "papermill": {
     "duration": 0.003612,
     "end_time": "2024-12-21T08:58:34.178034",
     "exception": false,
     "start_time": "2024-12-21T08:58:34.174422",
     "status": "completed"
    },
    "tags": []
   },
   "source": [
    "In this exercise, you'll apply what you learned in the **Character encodings** tutorial.\n",
    "\n",
    "# Setup\n",
    "\n",
    "The questions below will give you feedback on your work. Run the following cell to set up the feedback system."
   ]
  },
  {
   "cell_type": "code",
   "execution_count": 1,
   "id": "e79a4d7c",
   "metadata": {
    "execution": {
     "iopub.execute_input": "2024-12-21T08:58:34.187304Z",
     "iopub.status.busy": "2024-12-21T08:58:34.186962Z",
     "iopub.status.idle": "2024-12-21T08:58:34.717203Z",
     "shell.execute_reply": "2024-12-21T08:58:34.715757Z"
    },
    "papermill": {
     "duration": 0.537098,
     "end_time": "2024-12-21T08:58:34.719096",
     "exception": false,
     "start_time": "2024-12-21T08:58:34.181998",
     "status": "completed"
    },
    "tags": []
   },
   "outputs": [
    {
     "name": "stdout",
     "output_type": "stream",
     "text": [
      "Setup Complete\n"
     ]
    }
   ],
   "source": [
    "from learntools.core import binder\n",
    "binder.bind(globals())\n",
    "from learntools.data_cleaning.ex4 import *\n",
    "print(\"Setup Complete\")"
   ]
  },
  {
   "cell_type": "markdown",
   "id": "98734a9a",
   "metadata": {
    "papermill": {
     "duration": 0.00397,
     "end_time": "2024-12-21T08:58:34.727451",
     "exception": false,
     "start_time": "2024-12-21T08:58:34.723481",
     "status": "completed"
    },
    "tags": []
   },
   "source": [
    "# Get our environment set up\n",
    "\n",
    "The first thing we'll need to do is load in the libraries we'll be using."
   ]
  },
  {
   "cell_type": "code",
   "execution_count": 2,
   "id": "dcf04ff6",
   "metadata": {
    "execution": {
     "iopub.execute_input": "2024-12-21T08:58:34.736988Z",
     "iopub.status.busy": "2024-12-21T08:58:34.736596Z",
     "iopub.status.idle": "2024-12-21T08:58:34.741300Z",
     "shell.execute_reply": "2024-12-21T08:58:34.740088Z"
    },
    "papermill": {
     "duration": 0.011728,
     "end_time": "2024-12-21T08:58:34.743317",
     "exception": false,
     "start_time": "2024-12-21T08:58:34.731589",
     "status": "completed"
    },
    "tags": []
   },
   "outputs": [],
   "source": [
    "# modules we'll use\n",
    "import pandas as pd\n",
    "import numpy as np\n",
    "\n",
    "# helpful character encoding module\n",
    "import charset_normalizer\n",
    "\n",
    "# set seed for reproducibility\n",
    "np.random.seed(0)"
   ]
  },
  {
   "cell_type": "markdown",
   "id": "85db86a8",
   "metadata": {
    "papermill": {
     "duration": 0.003943,
     "end_time": "2024-12-21T08:58:34.751650",
     "exception": false,
     "start_time": "2024-12-21T08:58:34.747707",
     "status": "completed"
    },
    "tags": []
   },
   "source": [
    "# 1) What are encodings?\n",
    "\n",
    "You're working with a dataset composed of bytes.  Run the code cell below to print a sample entry."
   ]
  },
  {
   "cell_type": "code",
   "execution_count": 3,
   "id": "e4b5edc6",
   "metadata": {
    "execution": {
     "iopub.execute_input": "2024-12-21T08:58:34.761383Z",
     "iopub.status.busy": "2024-12-21T08:58:34.761016Z",
     "iopub.status.idle": "2024-12-21T08:58:34.767328Z",
     "shell.execute_reply": "2024-12-21T08:58:34.765916Z"
    },
    "papermill": {
     "duration": 0.013536,
     "end_time": "2024-12-21T08:58:34.769356",
     "exception": false,
     "start_time": "2024-12-21T08:58:34.755820",
     "status": "completed"
    },
    "tags": []
   },
   "outputs": [
    {
     "name": "stdout",
     "output_type": "stream",
     "text": [
      "b'\\xa7A\\xa6n'\n",
      "data type: <class 'bytes'>\n"
     ]
    }
   ],
   "source": [
    "sample_entry = b'\\xa7A\\xa6n'\n",
    "print(sample_entry)\n",
    "print('data type:', type(sample_entry))"
   ]
  },
  {
   "cell_type": "markdown",
   "id": "dca3e945",
   "metadata": {
    "papermill": {
     "duration": 0.004033,
     "end_time": "2024-12-21T08:58:34.777750",
     "exception": false,
     "start_time": "2024-12-21T08:58:34.773717",
     "status": "completed"
    },
    "tags": []
   },
   "source": [
    "You notice that it doesn't use the standard UTF-8 encoding. \n",
    "\n",
    "Use the next code cell to create a variable `new_entry` that changes the encoding from `\"big5-tw\"` to `\"utf-8\"`.  `new_entry` should have the bytes datatype."
   ]
  },
  {
   "cell_type": "code",
   "execution_count": 4,
   "id": "ec13d778",
   "metadata": {
    "execution": {
     "iopub.execute_input": "2024-12-21T08:58:34.788277Z",
     "iopub.status.busy": "2024-12-21T08:58:34.787890Z",
     "iopub.status.idle": "2024-12-21T08:58:34.798499Z",
     "shell.execute_reply": "2024-12-21T08:58:34.796888Z"
    },
    "papermill": {
     "duration": 0.018592,
     "end_time": "2024-12-21T08:58:34.800610",
     "exception": false,
     "start_time": "2024-12-21T08:58:34.782018",
     "status": "completed"
    },
    "tags": []
   },
   "outputs": [
    {
     "data": {
      "application/javascript": [
       "parent.postMessage({\"jupyterEvent\": \"custom.exercise_interaction\", \"data\": {\"outcomeType\": 1, \"valueTowardsCompletion\": 0.3333333333333333, \"interactionType\": 1, \"questionType\": 1, \"questionId\": \"1_EncodingsIntro\", \"learnToolsVersion\": \"0.3.4\", \"failureMessage\": \"\", \"exceptionClass\": \"\", \"trace\": \"\"}}, \"*\")"
      ],
      "text/plain": [
       "<IPython.core.display.Javascript object>"
      ]
     },
     "metadata": {},
     "output_type": "display_data"
    },
    {
     "data": {
      "text/markdown": [
       "<span style=\"color:#33cc33\">Correct</span>"
      ],
      "text/plain": [
       "Correct"
      ]
     },
     "metadata": {},
     "output_type": "display_data"
    }
   ],
   "source": [
    "new_entry = new_entry = sample_entry.decode('big5-tw').encode('utf-8')\n",
    "\n",
    "# Check your answer\n",
    "q1.check()"
   ]
  },
  {
   "cell_type": "code",
   "execution_count": 5,
   "id": "ef7eb774",
   "metadata": {
    "execution": {
     "iopub.execute_input": "2024-12-21T08:58:34.812007Z",
     "iopub.status.busy": "2024-12-21T08:58:34.811603Z",
     "iopub.status.idle": "2024-12-21T08:58:34.815888Z",
     "shell.execute_reply": "2024-12-21T08:58:34.814514Z"
    },
    "papermill": {
     "duration": 0.012446,
     "end_time": "2024-12-21T08:58:34.817737",
     "exception": false,
     "start_time": "2024-12-21T08:58:34.805291",
     "status": "completed"
    },
    "tags": []
   },
   "outputs": [],
   "source": [
    "# Lines below will give you a hint or solution code\n",
    "#q1.hint()\n",
    "#q1.solution()"
   ]
  },
  {
   "cell_type": "markdown",
   "id": "d9653d67",
   "metadata": {
    "papermill": {
     "duration": 0.005237,
     "end_time": "2024-12-21T08:58:34.827535",
     "exception": false,
     "start_time": "2024-12-21T08:58:34.822298",
     "status": "completed"
    },
    "tags": []
   },
   "source": [
    "# 2) Reading in files with encoding problems\n",
    "\n",
    "Use the code cell below to read in this file at path `\"../input/fatal-police-shootings-in-the-us/PoliceKillingsUS.csv\"`.  \n",
    "\n",
    "Figure out what the correct encoding should be and read in the file to a DataFrame `police_killings`."
   ]
  },
  {
   "cell_type": "code",
   "execution_count": 6,
   "id": "228c6ab1",
   "metadata": {
    "execution": {
     "iopub.execute_input": "2024-12-21T08:58:34.837851Z",
     "iopub.status.busy": "2024-12-21T08:58:34.837471Z",
     "iopub.status.idle": "2024-12-21T08:58:34.866313Z",
     "shell.execute_reply": "2024-12-21T08:58:34.863149Z"
    },
    "papermill": {
     "duration": 0.036691,
     "end_time": "2024-12-21T08:58:34.868846",
     "exception": false,
     "start_time": "2024-12-21T08:58:34.832155",
     "status": "completed"
    },
    "tags": []
   },
   "outputs": [
    {
     "data": {
      "application/javascript": [
       "parent.postMessage({\"jupyterEvent\": \"custom.exercise_interaction\", \"data\": {\"outcomeType\": 1, \"valueTowardsCompletion\": 0.3333333333333333, \"interactionType\": 1, \"questionType\": 1, \"questionId\": \"2_ReadIn\", \"learnToolsVersion\": \"0.3.4\", \"failureMessage\": \"\", \"exceptionClass\": \"\", \"trace\": \"\"}}, \"*\")"
      ],
      "text/plain": [
       "<IPython.core.display.Javascript object>"
      ]
     },
     "metadata": {},
     "output_type": "display_data"
    },
    {
     "data": {
      "text/markdown": [
       "<span style=\"color:#33cc33\">Correct</span>"
      ],
      "text/plain": [
       "Correct"
      ]
     },
     "metadata": {},
     "output_type": "display_data"
    }
   ],
   "source": [
    "# TODO: Load in the DataFrame correctly.\n",
    "police_killings  = pd.read_csv(\"../input/fatal-police-shootings-in-the-us/PoliceKillingsUS.csv\", encoding='Windows-1252')\n",
    "\n",
    "# look at the first few lines\n",
    "police_killings.head()\n",
    "\n",
    "# Check your answer\n",
    "q2.check()"
   ]
  },
  {
   "cell_type": "markdown",
   "id": "70076777",
   "metadata": {
    "papermill": {
     "duration": 0.005694,
     "end_time": "2024-12-21T08:58:34.879958",
     "exception": false,
     "start_time": "2024-12-21T08:58:34.874264",
     "status": "completed"
    },
    "tags": []
   },
   "source": [
    "Feel free to use any additional code cells for supplemental work.  To get credit for finishing this question, you'll need to run `q2.check()` and get a result of **Correct**."
   ]
  },
  {
   "cell_type": "code",
   "execution_count": 7,
   "id": "3d73b998",
   "metadata": {
    "execution": {
     "iopub.execute_input": "2024-12-21T08:58:34.891494Z",
     "iopub.status.busy": "2024-12-21T08:58:34.891125Z",
     "iopub.status.idle": "2024-12-21T08:58:34.896418Z",
     "shell.execute_reply": "2024-12-21T08:58:34.895107Z"
    },
    "papermill": {
     "duration": 0.013738,
     "end_time": "2024-12-21T08:58:34.898921",
     "exception": false,
     "start_time": "2024-12-21T08:58:34.885183",
     "status": "completed"
    },
    "tags": []
   },
   "outputs": [],
   "source": [
    "# (Optional) Use this code cell for any additional work."
   ]
  },
  {
   "cell_type": "code",
   "execution_count": 8,
   "id": "406e2c03",
   "metadata": {
    "execution": {
     "iopub.execute_input": "2024-12-21T08:58:34.910909Z",
     "iopub.status.busy": "2024-12-21T08:58:34.910526Z",
     "iopub.status.idle": "2024-12-21T08:58:34.914551Z",
     "shell.execute_reply": "2024-12-21T08:58:34.913418Z"
    },
    "papermill": {
     "duration": 0.012419,
     "end_time": "2024-12-21T08:58:34.916594",
     "exception": false,
     "start_time": "2024-12-21T08:58:34.904175",
     "status": "completed"
    },
    "tags": []
   },
   "outputs": [],
   "source": [
    "# Lines below will give you a hint or solution code\n",
    "#q2.hint()\n",
    "#q2.solution()"
   ]
  },
  {
   "cell_type": "markdown",
   "id": "f513aeee",
   "metadata": {
    "papermill": {
     "duration": 0.005044,
     "end_time": "2024-12-21T08:58:34.926516",
     "exception": false,
     "start_time": "2024-12-21T08:58:34.921472",
     "status": "completed"
    },
    "tags": []
   },
   "source": [
    "# 3) Saving your files with UTF-8 encoding\n",
    "\n",
    "Save a version of the police killings dataset to CSV with UTF-8 encoding.  Your answer will be marked correct after saving this file.  \n",
    "\n",
    "Note: When using the `to_csv()` method, supply only the name of the file (e.g., `\"my_file.csv\"`).  This saves the file at the filepath `\"/kaggle/working/my_file.csv\"`."
   ]
  },
  {
   "cell_type": "code",
   "execution_count": 9,
   "id": "8ef00a7e",
   "metadata": {
    "execution": {
     "iopub.execute_input": "2024-12-21T08:58:34.938414Z",
     "iopub.status.busy": "2024-12-21T08:58:34.938079Z",
     "iopub.status.idle": "2024-12-21T08:58:34.977845Z",
     "shell.execute_reply": "2024-12-21T08:58:34.976712Z"
    },
    "papermill": {
     "duration": 0.047895,
     "end_time": "2024-12-21T08:58:34.979559",
     "exception": false,
     "start_time": "2024-12-21T08:58:34.931664",
     "status": "completed"
    },
    "tags": []
   },
   "outputs": [
    {
     "data": {
      "application/javascript": [
       "parent.postMessage({\"jupyterEvent\": \"custom.exercise_interaction\", \"data\": {\"outcomeType\": 1, \"valueTowardsCompletion\": 0.3333333333333333, \"interactionType\": 1, \"questionType\": 2, \"questionId\": \"3_SaveCSV\", \"learnToolsVersion\": \"0.3.4\", \"failureMessage\": \"\", \"exceptionClass\": \"\", \"trace\": \"\"}}, \"*\")"
      ],
      "text/plain": [
       "<IPython.core.display.Javascript object>"
      ]
     },
     "metadata": {},
     "output_type": "display_data"
    },
    {
     "data": {
      "text/markdown": [
       "<span style=\"color:#33cc33\">Correct</span>"
      ],
      "text/plain": [
       "Correct"
      ]
     },
     "metadata": {},
     "output_type": "display_data"
    }
   ],
   "source": [
    "# TODO: Save the police killings dataset to CSV\n",
    "police_killings.to_csv(\"/kaggle/working/my_file.csv\")\n",
    "\n",
    "# Check your answer\n",
    "q3.check()"
   ]
  },
  {
   "cell_type": "code",
   "execution_count": 10,
   "id": "9e3b1e4d",
   "metadata": {
    "execution": {
     "iopub.execute_input": "2024-12-21T08:58:34.990842Z",
     "iopub.status.busy": "2024-12-21T08:58:34.990416Z",
     "iopub.status.idle": "2024-12-21T08:58:34.994889Z",
     "shell.execute_reply": "2024-12-21T08:58:34.993592Z"
    },
    "papermill": {
     "duration": 0.011961,
     "end_time": "2024-12-21T08:58:34.996729",
     "exception": false,
     "start_time": "2024-12-21T08:58:34.984768",
     "status": "completed"
    },
    "tags": []
   },
   "outputs": [],
   "source": [
    "# Lines below will give you a hint or solution code\n",
    "#q3.hint()\n",
    "#q3.solution()"
   ]
  },
  {
   "cell_type": "markdown",
   "id": "c316e108",
   "metadata": {
    "papermill": {
     "duration": 0.005456,
     "end_time": "2024-12-21T08:58:35.007225",
     "exception": false,
     "start_time": "2024-12-21T08:58:35.001769",
     "status": "completed"
    },
    "tags": []
   },
   "source": [
    "# (Optional) More practice\n",
    "\n",
    "Check out [this dataset of files in different character encodings](https://www.kaggle.com/rtatman/character-encoding-examples). Can you read in all the files with their original encodings and them save them out as UTF-8 files?\n",
    "\n",
    "If you have a file that's in UTF-8 but has just a couple of weird-looking characters in it, you can try out the [ftfy module](https://ftfy.readthedocs.io/en/latest/#) and see if it helps. \n",
    "\n",
    "# Keep going\n",
    "\n",
    "In the final lesson, learn how to [**clean up inconsistent text entries**](https://www.kaggle.com/alexisbcook/inconsistent-data-entry) in your dataset."
   ]
  },
  {
   "cell_type": "markdown",
   "id": "cbcb0523",
   "metadata": {
    "papermill": {
     "duration": 0.005092,
     "end_time": "2024-12-21T08:58:35.017183",
     "exception": false,
     "start_time": "2024-12-21T08:58:35.012091",
     "status": "completed"
    },
    "tags": []
   },
   "source": [
    "---\n",
    "\n",
    "\n",
    "\n",
    "\n",
    "*Have questions or comments? Visit the [course discussion forum](https://www.kaggle.com/learn/data-cleaning/discussion) to chat with other learners.*"
   ]
  }
 ],
 "metadata": {
  "kaggle": {
   "accelerator": "none",
   "dataSources": [
    {
     "datasetId": 2647,
     "sourceId": 4395,
     "sourceType": "datasetVersion"
    }
   ],
   "isGpuEnabled": false,
   "isInternetEnabled": false,
   "language": "python",
   "sourceType": "notebook"
  },
  "kernelspec": {
   "display_name": "Python 3",
   "language": "python",
   "name": "python3"
  },
  "language_info": {
   "codemirror_mode": {
    "name": "ipython",
    "version": 3
   },
   "file_extension": ".py",
   "mimetype": "text/x-python",
   "name": "python",
   "nbconvert_exporter": "python",
   "pygments_lexer": "ipython3",
   "version": "3.10.12"
  },
  "papermill": {
   "default_parameters": {},
   "duration": 3.752129,
   "end_time": "2024-12-21T08:58:35.543624",
   "environment_variables": {},
   "exception": null,
   "input_path": "__notebook__.ipynb",
   "output_path": "__notebook__.ipynb",
   "parameters": {},
   "start_time": "2024-12-21T08:58:31.791495",
   "version": "2.6.0"
  }
 },
 "nbformat": 4,
 "nbformat_minor": 5
}
